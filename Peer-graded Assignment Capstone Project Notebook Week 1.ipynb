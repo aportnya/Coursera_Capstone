{
 "cells": [
  {
   "cell_type": "markdown",
   "id": "24905de3",
   "metadata": {},
   "source": [
    "This is the first notebook of Applied Data Science Capstone Course for Peer-graded Assignment: Capstone Project Notebook of Week 1"
   ]
  },
  {
   "cell_type": "code",
   "execution_count": 1,
   "id": "7eebcb61",
   "metadata": {},
   "outputs": [],
   "source": [
    "import pandas as pd\n",
    "import numpy as np"
   ]
  },
  {
   "cell_type": "code",
   "execution_count": 2,
   "id": "74a82790",
   "metadata": {},
   "outputs": [
    {
     "name": "stdout",
     "output_type": "stream",
     "text": [
      "Hello Capstone Project Course\n"
     ]
    }
   ],
   "source": [
    "print ('Hello Capstone Project Course')"
   ]
  },
  {
   "cell_type": "code",
   "execution_count": null,
   "id": "94d8e418",
   "metadata": {},
   "outputs": [],
   "source": []
  },
  {
   "cell_type": "code",
   "execution_count": null,
   "id": "ef2b3817",
   "metadata": {},
   "outputs": [],
   "source": []
  }
 ],
 "metadata": {
  "kernelspec": {
   "display_name": "Python",
   "language": "python",
   "name": "conda-env-python-py"
  },
  "language_info": {
   "codemirror_mode": {
    "name": "ipython",
    "version": 3
   },
   "file_extension": ".py",
   "mimetype": "text/x-python",
   "name": "python",
   "nbconvert_exporter": "python",
   "pygments_lexer": "ipython3",
   "version": "3.6.13"
  }
 },
 "nbformat": 4,
 "nbformat_minor": 5
}
